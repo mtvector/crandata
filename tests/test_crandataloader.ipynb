{
 "cells": [
  {
   "cell_type": "code",
   "execution_count": 1,
   "id": "94acffde-a523-4bc6-9fd7-d6c0487fbe02",
   "metadata": {
    "scrolled": true
   },
   "outputs": [
    {
     "name": "stderr",
     "output_type": "stream",
     "text": [
      "/home/matthew.schmitz/Matthew/utils/miniforge3/envs/crested/lib/python3.12/abc.py:106: FutureWarning: xarray subclass CrAnData should explicitly define __slots__\n",
      "  cls = super().__new__(mcls, name, bases, namespace, **kwargs)\n",
      "100%|██████████| 2/2 [00:00<00:00, 13819.78it/s]\n",
      "\u001b[32m2025-03-17 21:58:11.698\u001b[0m | \u001b[1mINFO    \u001b[0m | \u001b[36mcrandata.chrom_io\u001b[0m:\u001b[36mimport_bigwigs\u001b[0m:\u001b[36m414\u001b[0m - \u001b[1mExtracting values from 2 bigWig files...\u001b[0m\n",
      "2it [00:00, 101.20it/s]\n",
      "/allen/programs/celltypes/workgroups/rnaseqanalysis/EvoGen/Team/Matthew/code/crandata/crandata/crandata.py:61: FutureWarning: Setting attribute 'obs_file_path' on a 'CrAnData' object. Explicitly define __slots__ to suppress this warning for legitimate custom attributes and raise an error when attempting variables assignments.\n",
      "  setattr(self, safe_name, self.data_vars[key])\n",
      "/allen/programs/celltypes/workgroups/rnaseqanalysis/EvoGen/Team/Matthew/code/crandata/crandata/crandata.py:61: FutureWarning: Setting attribute 'obs_index' on a 'CrAnData' object. Explicitly define __slots__ to suppress this warning for legitimate custom attributes and raise an error when attempting variables assignments.\n",
      "  setattr(self, safe_name, self.data_vars[key])\n",
      "/allen/programs/celltypes/workgroups/rnaseqanalysis/EvoGen/Team/Matthew/code/crandata/crandata/crandata.py:61: FutureWarning: Setting attribute 'var_chrom' on a 'CrAnData' object. Explicitly define __slots__ to suppress this warning for legitimate custom attributes and raise an error when attempting variables assignments.\n",
      "  setattr(self, safe_name, self.data_vars[key])\n",
      "/allen/programs/celltypes/workgroups/rnaseqanalysis/EvoGen/Team/Matthew/code/crandata/crandata/crandata.py:61: FutureWarning: Setting attribute 'var_start' on a 'CrAnData' object. Explicitly define __slots__ to suppress this warning for legitimate custom attributes and raise an error when attempting variables assignments.\n",
      "  setattr(self, safe_name, self.data_vars[key])\n",
      "/allen/programs/celltypes/workgroups/rnaseqanalysis/EvoGen/Team/Matthew/code/crandata/crandata/crandata.py:61: FutureWarning: Setting attribute 'var_end' on a 'CrAnData' object. Explicitly define __slots__ to suppress this warning for legitimate custom attributes and raise an error when attempting variables assignments.\n",
      "  setattr(self, safe_name, self.data_vars[key])\n",
      "/allen/programs/celltypes/workgroups/rnaseqanalysis/EvoGen/Team/Matthew/code/crandata/crandata/crandata.py:61: FutureWarning: Setting attribute 'var_chunk_index' on a 'CrAnData' object. Explicitly define __slots__ to suppress this warning for legitimate custom attributes and raise an error when attempting variables assignments.\n",
      "  setattr(self, safe_name, self.data_vars[key])\n",
      "/allen/programs/celltypes/workgroups/rnaseqanalysis/EvoGen/Team/Matthew/code/crandata/crandata/crandata.py:61: FutureWarning: Setting attribute 'var_index' on a 'CrAnData' object. Explicitly define __slots__ to suppress this warning for legitimate custom attributes and raise an error when attempting variables assignments.\n",
      "  setattr(self, safe_name, self.data_vars[key])\n",
      "/allen/programs/celltypes/workgroups/rnaseqanalysis/EvoGen/Team/Matthew/code/crandata/crandata/crandata.py:61: FutureWarning: Setting attribute 'var_index' on a 'CrAnData' object. Explicitly define __slots__ to suppress this warning for legitimate custom attributes and raise an error when attempting variables assignments.\n",
      "  setattr(self, safe_name, self.data_vars[key])\n",
      "/allen/programs/celltypes/workgroups/rnaseqanalysis/EvoGen/Team/Matthew/code/crandata/crandata/crandata.py:61: FutureWarning: Setting attribute 'var_chrom' on a 'CrAnData' object. Explicitly define __slots__ to suppress this warning for legitimate custom attributes and raise an error when attempting variables assignments.\n",
      "  setattr(self, safe_name, self.data_vars[key])\n",
      "/allen/programs/celltypes/workgroups/rnaseqanalysis/EvoGen/Team/Matthew/code/crandata/crandata/crandata.py:61: FutureWarning: Setting attribute 'var_start' on a 'CrAnData' object. Explicitly define __slots__ to suppress this warning for legitimate custom attributes and raise an error when attempting variables assignments.\n",
      "  setattr(self, safe_name, self.data_vars[key])\n",
      "/allen/programs/celltypes/workgroups/rnaseqanalysis/EvoGen/Team/Matthew/code/crandata/crandata/crandata.py:61: FutureWarning: Setting attribute 'var_end' on a 'CrAnData' object. Explicitly define __slots__ to suppress this warning for legitimate custom attributes and raise an error when attempting variables assignments.\n",
      "  setattr(self, safe_name, self.data_vars[key])\n",
      "/allen/programs/celltypes/workgroups/rnaseqanalysis/EvoGen/Team/Matthew/code/crandata/crandata/crandata.py:61: FutureWarning: Setting attribute 'var_chunk_index' on a 'CrAnData' object. Explicitly define __slots__ to suppress this warning for legitimate custom attributes and raise an error when attempting variables assignments.\n",
      "  setattr(self, safe_name, self.data_vars[key])\n",
      "/allen/programs/celltypes/workgroups/rnaseqanalysis/EvoGen/Team/Matthew/code/crandata/crandata/crandata.py:61: FutureWarning: Setting attribute 'obs_file_path' on a 'CrAnData' object. Explicitly define __slots__ to suppress this warning for legitimate custom attributes and raise an error when attempting variables assignments.\n",
      "  setattr(self, safe_name, self.data_vars[key])\n",
      "/allen/programs/celltypes/workgroups/rnaseqanalysis/EvoGen/Team/Matthew/code/crandata/crandata/crandata.py:61: FutureWarning: Setting attribute 'obs_index' on a 'CrAnData' object. Explicitly define __slots__ to suppress this warning for legitimate custom attributes and raise an error when attempting variables assignments.\n",
      "  setattr(self, safe_name, self.data_vars[key])\n",
      "/allen/programs/celltypes/workgroups/rnaseqanalysis/EvoGen/Team/Matthew/code/crandata/crandata/crandata.py:61: FutureWarning: Setting attribute 'var_index' on a 'CrAnData' object. Explicitly define __slots__ to suppress this warning for legitimate custom attributes and raise an error when attempting variables assignments.\n",
      "  setattr(self, safe_name, self.data_vars[key])\n",
      "/allen/programs/celltypes/workgroups/rnaseqanalysis/EvoGen/Team/Matthew/code/crandata/crandata/crandata.py:61: FutureWarning: Setting attribute 'var_chrom' on a 'CrAnData' object. Explicitly define __slots__ to suppress this warning for legitimate custom attributes and raise an error when attempting variables assignments.\n",
      "  setattr(self, safe_name, self.data_vars[key])\n",
      "/allen/programs/celltypes/workgroups/rnaseqanalysis/EvoGen/Team/Matthew/code/crandata/crandata/crandata.py:61: FutureWarning: Setting attribute 'var_start' on a 'CrAnData' object. Explicitly define __slots__ to suppress this warning for legitimate custom attributes and raise an error when attempting variables assignments.\n",
      "  setattr(self, safe_name, self.data_vars[key])\n",
      "/allen/programs/celltypes/workgroups/rnaseqanalysis/EvoGen/Team/Matthew/code/crandata/crandata/crandata.py:61: FutureWarning: Setting attribute 'var_end' on a 'CrAnData' object. Explicitly define __slots__ to suppress this warning for legitimate custom attributes and raise an error when attempting variables assignments.\n",
      "  setattr(self, safe_name, self.data_vars[key])\n",
      "/allen/programs/celltypes/workgroups/rnaseqanalysis/EvoGen/Team/Matthew/code/crandata/crandata/crandata.py:61: FutureWarning: Setting attribute 'var_chunk_index' on a 'CrAnData' object. Explicitly define __slots__ to suppress this warning for legitimate custom attributes and raise an error when attempting variables assignments.\n",
      "  setattr(self, safe_name, self.data_vars[key])\n",
      "/allen/programs/celltypes/workgroups/rnaseqanalysis/EvoGen/Team/Matthew/code/crandata/crandata/crandata.py:61: FutureWarning: Setting attribute 'obs_file_path' on a 'CrAnData' object. Explicitly define __slots__ to suppress this warning for legitimate custom attributes and raise an error when attempting variables assignments.\n",
      "  setattr(self, safe_name, self.data_vars[key])\n",
      "/allen/programs/celltypes/workgroups/rnaseqanalysis/EvoGen/Team/Matthew/code/crandata/crandata/crandata.py:61: FutureWarning: Setting attribute 'obs_index' on a 'CrAnData' object. Explicitly define __slots__ to suppress this warning for legitimate custom attributes and raise an error when attempting variables assignments.\n",
      "  setattr(self, safe_name, self.data_vars[key])\n",
      "/allen/programs/celltypes/workgroups/rnaseqanalysis/EvoGen/Team/Matthew/code/crandata/crandata/_module.py:200: FutureWarning: The return type of `Dataset.dims` will be changed to return a set of dimension names in future, in order to be more consistent with `DataArray.dims`. To access a mapping from dimension names to lengths, please use `Dataset.sizes`.\n",
      "  dim_dict = dict(self.adata.dims)\n",
      "/home/matthew.schmitz/Matthew/utils/miniforge3/envs/crested/lib/python3.12/site-packages/xbatcher/generators.py:112: UserWarning: The following dimensions were included in both ``input_dims`` and ``batch_dims``. Since ``concat_input_dims`` is ``False``, these dimensions will not impact batch generation: {'var': 4}\n",
      "  warnings.warn(\n"
     ]
    },
    {
     "name": "stdout",
     "output_type": "stream",
     "text": [
      "Loaded CrAnData:\n",
      "CrAnData object\n",
      "Array names: ['sequences', 'var/index', 'var/chrom', 'var/start', 'var/end', 'var/chunk_index', 'obs/file_path', 'obs/index', 'X', 'always_convert_df']\n",
      "Coordinates: ['var', 'obs', 'seq_bins']\n",
      "\n"
     ]
    },
    {
     "ename": "ValueError",
     "evalue": "input sample length must be less than or equal to the dimension length, but the sample length of 4 is greater than the dimension length of 3 for var",
     "output_type": "error",
     "traceback": [
      "\u001b[0;31m---------------------------------------------------------------------------\u001b[0m",
      "\u001b[0;31mValueError\u001b[0m                                Traceback (most recent call last)",
      "Cell \u001b[0;32mIn[1], line 115\u001b[0m\n\u001b[1;32m    113\u001b[0m \u001b[38;5;66;03m# Setup each underlying module for the \"train\" stage.\u001b[39;00m\n\u001b[1;32m    114\u001b[0m \u001b[38;5;28;01mfor\u001b[39;00m mod \u001b[38;5;129;01min\u001b[39;00m meta_module\u001b[38;5;241m.\u001b[39mmodules:\n\u001b[0;32m--> 115\u001b[0m     \u001b[43mmod\u001b[49m\u001b[38;5;241;43m.\u001b[39;49m\u001b[43msetup\u001b[49m\u001b[43m(\u001b[49m\u001b[43mstate\u001b[49m\u001b[38;5;241;43m=\u001b[39;49m\u001b[38;5;124;43m\"\u001b[39;49m\u001b[38;5;124;43mtrain\u001b[39;49m\u001b[38;5;124;43m\"\u001b[39;49m\u001b[43m)\u001b[49m\n\u001b[1;32m    117\u001b[0m \u001b[38;5;66;03m# Retrieve the training dataloader from the meta module and iterate over a couple of batches.\u001b[39;00m\n\u001b[1;32m    118\u001b[0m meta_train_dl \u001b[38;5;241m=\u001b[39m meta_module\u001b[38;5;241m.\u001b[39mtrain_dataloader\n",
      "File \u001b[0;32m/allen/programs/celltypes/workgroups/rnaseqanalysis/EvoGen/Team/Matthew/code/crandata/crandata/_module.py:205\u001b[0m, in \u001b[0;36mCrAnDataModule.setup\u001b[0;34m(self, state)\u001b[0m\n\u001b[1;32m    203\u001b[0m dim_dict\u001b[38;5;241m.\u001b[39mpop(\u001b[38;5;124m'\u001b[39m\u001b[38;5;124mitem\u001b[39m\u001b[38;5;124m'\u001b[39m, \u001b[38;5;28;01mNone\u001b[39;00m)\n\u001b[1;32m    204\u001b[0m \u001b[38;5;66;03m# Create the generator.\u001b[39;00m\n\u001b[0;32m--> 205\u001b[0m \u001b[38;5;28mself\u001b[39m\u001b[38;5;241m.\u001b[39m_generators[state] \u001b[38;5;241m=\u001b[39m \u001b[43mxbatcher\u001b[49m\u001b[38;5;241;43m.\u001b[39;49m\u001b[43mBatchGenerator\u001b[49m\u001b[43m(\u001b[49m\n\u001b[1;32m    206\u001b[0m \u001b[43m    \u001b[49m\u001b[43mds\u001b[49m\u001b[38;5;241;43m=\u001b[39;49m\u001b[38;5;28;43mself\u001b[39;49m\u001b[38;5;241;43m.\u001b[39;49m\u001b[43madata\u001b[49m\u001b[43m,\u001b[49m\n\u001b[1;32m    207\u001b[0m \u001b[43m    \u001b[49m\u001b[43minput_dims\u001b[49m\u001b[38;5;241;43m=\u001b[39;49m\u001b[43mdim_dict\u001b[49m\u001b[43m,\u001b[49m\n\u001b[1;32m    208\u001b[0m \u001b[43m    \u001b[49m\u001b[43mbatch_dims\u001b[49m\u001b[38;5;241;43m=\u001b[39;49m\u001b[43m{\u001b[49m\u001b[38;5;124;43m'\u001b[39;49m\u001b[38;5;124;43mvar\u001b[39;49m\u001b[38;5;124;43m'\u001b[39;49m\u001b[43m:\u001b[49m\u001b[43m \u001b[49m\u001b[38;5;28;43mself\u001b[39;49m\u001b[38;5;241;43m.\u001b[39;49m\u001b[43mbatch_size\u001b[49m\u001b[43m}\u001b[49m\u001b[43m,\u001b[49m\n\u001b[1;32m    209\u001b[0m \u001b[43m\u001b[49m\u001b[43m)\u001b[49m\n",
      "File \u001b[0;32m~/Matthew/utils/miniforge3/envs/crested/lib/python3.12/site-packages/xbatcher/generators.py:436\u001b[0m, in \u001b[0;36mBatchGenerator.__init__\u001b[0;34m(self, ds, input_dims, input_overlap, batch_dims, concat_input_dims, preload_batch, cache, cache_preprocess)\u001b[0m\n\u001b[1;32m    433\u001b[0m \u001b[38;5;28mself\u001b[39m\u001b[38;5;241m.\u001b[39mcache \u001b[38;5;241m=\u001b[39m cache\n\u001b[1;32m    434\u001b[0m \u001b[38;5;28mself\u001b[39m\u001b[38;5;241m.\u001b[39mcache_preprocess \u001b[38;5;241m=\u001b[39m cache_preprocess\n\u001b[0;32m--> 436\u001b[0m \u001b[38;5;28mself\u001b[39m\u001b[38;5;241m.\u001b[39m_batch_selectors: BatchSchema \u001b[38;5;241m=\u001b[39m \u001b[43mBatchSchema\u001b[49m\u001b[43m(\u001b[49m\n\u001b[1;32m    437\u001b[0m \u001b[43m    \u001b[49m\u001b[43mds\u001b[49m\u001b[43m,\u001b[49m\n\u001b[1;32m    438\u001b[0m \u001b[43m    \u001b[49m\u001b[43minput_dims\u001b[49m\u001b[38;5;241;43m=\u001b[39;49m\u001b[43minput_dims\u001b[49m\u001b[43m,\u001b[49m\n\u001b[1;32m    439\u001b[0m \u001b[43m    \u001b[49m\u001b[43minput_overlap\u001b[49m\u001b[38;5;241;43m=\u001b[39;49m\u001b[43minput_overlap\u001b[49m\u001b[43m,\u001b[49m\n\u001b[1;32m    440\u001b[0m \u001b[43m    \u001b[49m\u001b[43mbatch_dims\u001b[49m\u001b[38;5;241;43m=\u001b[39;49m\u001b[43mbatch_dims\u001b[49m\u001b[43m,\u001b[49m\n\u001b[1;32m    441\u001b[0m \u001b[43m    \u001b[49m\u001b[43mconcat_input_bins\u001b[49m\u001b[38;5;241;43m=\u001b[39;49m\u001b[43mconcat_input_dims\u001b[49m\u001b[43m,\u001b[49m\n\u001b[1;32m    442\u001b[0m \u001b[43m    \u001b[49m\u001b[43mpreload_batch\u001b[49m\u001b[38;5;241;43m=\u001b[39;49m\u001b[43mpreload_batch\u001b[49m\u001b[43m,\u001b[49m\n\u001b[1;32m    443\u001b[0m \u001b[43m\u001b[49m\u001b[43m)\u001b[49m\n",
      "File \u001b[0;32m~/Matthew/utils/miniforge3/envs/crested/lib/python3.12/site-packages/xbatcher/generators.py:92\u001b[0m, in \u001b[0;36mBatchSchema.__init__\u001b[0;34m(self, ds, input_dims, input_overlap, batch_dims, concat_input_bins, preload_batch)\u001b[0m\n\u001b[1;32m     85\u001b[0m \u001b[38;5;28mself\u001b[39m\u001b[38;5;241m.\u001b[39m_input_stride: \u001b[38;5;28mdict\u001b[39m[Hashable, \u001b[38;5;28mint\u001b[39m] \u001b[38;5;241m=\u001b[39m {\n\u001b[1;32m     86\u001b[0m     dim: length \u001b[38;5;241m-\u001b[39m \u001b[38;5;28mself\u001b[39m\u001b[38;5;241m.\u001b[39minput_overlap\u001b[38;5;241m.\u001b[39mget(dim, \u001b[38;5;241m0\u001b[39m)\n\u001b[1;32m     87\u001b[0m     \u001b[38;5;28;01mfor\u001b[39;00m dim, length \u001b[38;5;129;01min\u001b[39;00m \u001b[38;5;28mself\u001b[39m\u001b[38;5;241m.\u001b[39minput_dims\u001b[38;5;241m.\u001b[39mitems()\n\u001b[1;32m     88\u001b[0m }\n\u001b[1;32m     89\u001b[0m \u001b[38;5;28mself\u001b[39m\u001b[38;5;241m.\u001b[39m_all_sliced_dims: \u001b[38;5;28mdict\u001b[39m[Hashable, \u001b[38;5;28mint\u001b[39m] \u001b[38;5;241m=\u001b[39m \u001b[38;5;28mdict\u001b[39m(\n\u001b[1;32m     90\u001b[0m     \u001b[38;5;241m*\u001b[39m\u001b[38;5;241m*\u001b[39m\u001b[38;5;28mself\u001b[39m\u001b[38;5;241m.\u001b[39m_unique_batch_dims, \u001b[38;5;241m*\u001b[39m\u001b[38;5;241m*\u001b[39m\u001b[38;5;28mself\u001b[39m\u001b[38;5;241m.\u001b[39minput_dims\n\u001b[1;32m     91\u001b[0m )\n\u001b[0;32m---> 92\u001b[0m \u001b[38;5;28mself\u001b[39m\u001b[38;5;241m.\u001b[39mselectors: BatchSelectorSet \u001b[38;5;241m=\u001b[39m \u001b[38;5;28;43mself\u001b[39;49m\u001b[38;5;241;43m.\u001b[39;49m\u001b[43m_gen_batch_selectors\u001b[49m\u001b[43m(\u001b[49m\u001b[43mds\u001b[49m\u001b[43m)\u001b[49m\n",
      "File \u001b[0;32m~/Matthew/utils/miniforge3/envs/crested/lib/python3.12/site-packages/xbatcher/generators.py:105\u001b[0m, in \u001b[0;36mBatchSchema._gen_batch_selectors\u001b[0;34m(self, ds)\u001b[0m\n\u001b[1;32m    103\u001b[0m     \u001b[38;5;28;01mreturn\u001b[39;00m \u001b[38;5;28mself\u001b[39m\u001b[38;5;241m.\u001b[39m_combine_patches_into_batch(ds, patch_selectors)\n\u001b[1;32m    104\u001b[0m \u001b[38;5;28;01melse\u001b[39;00m:  \u001b[38;5;66;03m# Each patch gets its own batch\u001b[39;00m\n\u001b[0;32m--> 105\u001b[0m     \u001b[38;5;28;01mreturn\u001b[39;00m {ind: [value] \u001b[38;5;28;01mfor\u001b[39;00m ind, value \u001b[38;5;129;01min\u001b[39;00m \u001b[38;5;28menumerate\u001b[39m(patch_selectors)}\n",
      "File \u001b[0;32m~/Matthew/utils/miniforge3/envs/crested/lib/python3.12/site-packages/xbatcher/generators.py:334\u001b[0m, in \u001b[0;36m_iterate_through_dimensions\u001b[0;34m(ds, dims, overlap)\u001b[0m\n\u001b[1;32m    332\u001b[0m     slice_overlap \u001b[38;5;241m=\u001b[39m overlap\u001b[38;5;241m.\u001b[39mget(dim, \u001b[38;5;241m0\u001b[39m)\n\u001b[1;32m    333\u001b[0m     \u001b[38;5;28;01mif\u001b[39;00m slice_size \u001b[38;5;241m>\u001b[39m dim_size:\n\u001b[0;32m--> 334\u001b[0m         \u001b[38;5;28;01mraise\u001b[39;00m \u001b[38;5;167;01mValueError\u001b[39;00m(\n\u001b[1;32m    335\u001b[0m             \u001b[38;5;124m'\u001b[39m\u001b[38;5;124minput sample length must be less than or equal to the \u001b[39m\u001b[38;5;124m'\u001b[39m\n\u001b[1;32m    336\u001b[0m             \u001b[38;5;124mf\u001b[39m\u001b[38;5;124m'\u001b[39m\u001b[38;5;124mdimension length, but the sample length of \u001b[39m\u001b[38;5;132;01m{\u001b[39;00mslice_size\u001b[38;5;132;01m}\u001b[39;00m\u001b[38;5;124m \u001b[39m\u001b[38;5;124m'\u001b[39m\n\u001b[1;32m    337\u001b[0m             \u001b[38;5;124mf\u001b[39m\u001b[38;5;124m'\u001b[39m\u001b[38;5;124mis greater than the dimension length of \u001b[39m\u001b[38;5;132;01m{\u001b[39;00mdim_size\u001b[38;5;132;01m}\u001b[39;00m\u001b[38;5;124m \u001b[39m\u001b[38;5;124m'\u001b[39m\n\u001b[1;32m    338\u001b[0m             \u001b[38;5;124mf\u001b[39m\u001b[38;5;124m'\u001b[39m\u001b[38;5;124mfor \u001b[39m\u001b[38;5;132;01m{\u001b[39;00mdim\u001b[38;5;132;01m}\u001b[39;00m\u001b[38;5;124m'\u001b[39m\n\u001b[1;32m    339\u001b[0m         )\n\u001b[1;32m    340\u001b[0m     dim_slices\u001b[38;5;241m.\u001b[39mappend(\n\u001b[1;32m    341\u001b[0m         _gen_slices(dim_size\u001b[38;5;241m=\u001b[39mdim_size, slice_size\u001b[38;5;241m=\u001b[39mslice_size, overlap\u001b[38;5;241m=\u001b[39mslice_overlap)\n\u001b[1;32m    342\u001b[0m     )\n\u001b[1;32m    343\u001b[0m \u001b[38;5;28;01mfor\u001b[39;00m slices \u001b[38;5;129;01min\u001b[39;00m itertools\u001b[38;5;241m.\u001b[39mproduct(\u001b[38;5;241m*\u001b[39mdim_slices):\n",
      "\u001b[0;31mValueError\u001b[0m: input sample length must be less than or equal to the dimension length, but the sample length of 4 is greater than the dimension length of 3 for var"
     ]
    }
   ],
   "source": [
    "import os\n",
    "import tempfile\n",
    "from pathlib import Path\n",
    "import pandas as pd\n",
    "import numpy as np\n",
    "import pyBigWig\n",
    "import copy\n",
    "import xarray as xr\n",
    "import tqdm\n",
    "\n",
    "# Import our new module system and utilities.\n",
    "from crandata import CrAnDataModule, MetaCrAnDataModule, CrAnData\n",
    "from crandata.chrom_io import import_bigwigs\n",
    "from crandata.seq_io import add_genome_sequences_to_crandata, DNATransform\n",
    "\n",
    "# Create temporary directories for synthetic data.\n",
    "temp_dir = tempfile.TemporaryDirectory()\n",
    "base_dir = Path(temp_dir.name)\n",
    "beds_dir = base_dir / \"beds\"\n",
    "bigwigs_dir = base_dir / \"bigwigs\"\n",
    "beds_dir.mkdir(exist_ok=True)\n",
    "bigwigs_dir.mkdir(exist_ok=True)\n",
    "\n",
    "# Create a chromsizes file.\n",
    "chromsizes_file = base_dir / \"chrom.sizes\"\n",
    "with open(chromsizes_file, \"w\") as f:\n",
    "    f.write(\"chr1\\t1000\\n\")\n",
    "\n",
    "# Create two BED files (simulate two different classes).\n",
    "bed_data_A = pd.DataFrame({0: [\"chr1\", \"chr1\"],\n",
    "                           1: [100, 300],\n",
    "                           2: [200, 400]})\n",
    "bed_data_B = pd.DataFrame({0: [\"chr1\", \"chr1\"],\n",
    "                           1: [150, 350],\n",
    "                           2: [250, 450]})\n",
    "bed_file_A = beds_dir / \"ClassA.bed\"\n",
    "bed_file_B = beds_dir / \"ClassB.bed\"\n",
    "bed_data_A.to_csv(bed_file_A, sep=\"\\t\", header=False, index=False)\n",
    "bed_data_B.to_csv(bed_file_B, sep=\"\\t\", header=False, index=False)\n",
    "\n",
    "# Create a consensus BED file.\n",
    "consensus = pd.DataFrame({0: [\"chr1\", \"chr1\", \"chr1\"],\n",
    "                          1: [100, 300, 350],\n",
    "                          2: [200, 400, 450]})\n",
    "consensus_file = base_dir / \"consensus.bed\"\n",
    "consensus.to_csv(consensus_file, sep=\"\\t\", header=False, index=False)\n",
    "\n",
    "# Create two bigWig files.\n",
    "bigwig_file1 = bigwigs_dir / \"test.bw\"\n",
    "bw1 = pyBigWig.open(str(bigwig_file1), \"w\")\n",
    "bw1.addHeader([(\"chr1\", 1000)])\n",
    "bw1.addEntries(chroms=[\"chr1\"], starts=[0], ends=[1000], values=[5.0])\n",
    "bw1.close()\n",
    "\n",
    "bigwig_file2 = bigwigs_dir / \"test2.bw\"\n",
    "bw2 = pyBigWig.open(str(bigwig_file2), \"w\")\n",
    "bw2.addHeader([(\"chr1\", 1000)])\n",
    "bw2.addEntries(chroms=[\"chr1\"], starts=[0], ends=[1000], values=[4.0])\n",
    "bw2.close()\n",
    "\n",
    "# Set extraction parameters.\n",
    "target_region_width = 100\n",
    "backed_path = base_dir / \"chrom_data.nc\"\n",
    "\n",
    "# Create the CrAnData object from bigWig files and consensus regions.\n",
    "adata = import_bigwigs(\n",
    "    bigwigs_folder=str(bigwigs_dir),\n",
    "    regions_file=str(consensus_file),\n",
    "    backed_path=str(backed_path),\n",
    "    target_region_width=target_region_width,\n",
    "    chromsizes_file=str(chromsizes_file),\n",
    ")\n",
    "\n",
    "# Create a dummy FASTA file for a genome.\n",
    "fasta_file = base_dir / \"chr1.fa\"\n",
    "with open(fasta_file, \"w\") as f:\n",
    "    f.write(\">chr1\\n\")\n",
    "    f.write(\"A\" * 1000 + \"\\n\")\n",
    "\n",
    "# Create a Genome object.\n",
    "from crandata._genome import Genome\n",
    "dummy_genome = Genome(str(fasta_file), chrom_sizes=str(chromsizes_file))\n",
    "\n",
    "# Add sequences to the CrAnData using the provided seq_io utility.\n",
    "# Here we use the consensus regions as our ranges.\n",
    "consensus.columns = ['chrom','start','end']\n",
    "adata = add_genome_sequences_to_crandata(adata, consensus, dummy_genome)\n",
    "\n",
    "# Write the CrAnData object to disk and then reload it to ensure sequences are out-of-memory.\n",
    "adata.to_netcdf(str(backed_path))\n",
    "adata_loaded = CrAnData.open_dataset(str(backed_path))\n",
    "print(\"Loaded CrAnData:\")\n",
    "print(adata_loaded)\n",
    "\n",
    "# Create two copies to simulate two datasets (e.g. two species), and add a \"split\" column in var metadata.\n",
    "adata1 = copy.deepcopy(adata_loaded)\n",
    "adata2 = copy.deepcopy(adata_loaded)\n",
    "adata1[\"var/split\"] = xr.DataArray(np.full(adata1.sizes[\"var\"], \"train\"), dims=[\"var\"])\n",
    "adata2[\"var/split\"] = xr.DataArray(np.full(adata2.sizes[\"var\"], \"train\"), dims=[\"var\"])\n",
    "\n",
    "# Create a DNATransform instance.\n",
    "transform = DNATransform(out_len=80, random_rc=True, max_shift=5)\n",
    "\n",
    "# Instantiate the MetaCrAnDataModule with the two datasets.\n",
    "meta_module = MetaCrAnDataModule(\n",
    "    adatas=[adata1, adata2],\n",
    "    batch_size=4,        # small batch size for testing\n",
    "    shuffle=True,\n",
    "    dnatransform=transform,\n",
    "    epoch_size=10\n",
    ")\n",
    "\n",
    "# Setup each underlying module for the \"train\" stage.\n",
    "for mod in meta_module.modules:\n",
    "    mod.setup(state=\"train\")\n",
    "\n",
    "# Retrieve the training dataloader from the meta module and iterate over a couple of batches.\n",
    "meta_train_dl = meta_module.train_dataloader\n",
    "print(\"\\nIterating over a couple of training batches from MetaCrAnDataModule:\")\n",
    "for i, batch in enumerate(tqdm.tqdm(meta_train_dl)):\n",
    "    print(f\"\\nMeta Batch {i}:\")\n",
    "    for key, tensor in batch.items():\n",
    "        print(f\"  {key}: shape {tensor.shape}\")\n",
    "    if i >= 1:\n",
    "        break\n",
    "\n",
    "print(\"\\nTemporary directory contents:\")\n",
    "print(os.listdir(base_dir))\n",
    "temp_dir.cleanup()\n"
   ]
  },
  {
   "cell_type": "code",
   "execution_count": null,
   "id": "ce5b6619-dad4-40e4-b5c0-23a7bf60560f",
   "metadata": {},
   "outputs": [],
   "source": [
    "import json\n",
    "json.dumps({'hi':74})"
   ]
  },
  {
   "cell_type": "code",
   "execution_count": null,
   "id": "40407605-95c9-47d4-acc4-1a0dee76e563",
   "metadata": {},
   "outputs": [],
   "source": []
  },
  {
   "cell_type": "code",
   "execution_count": null,
   "id": "8c9756ce-f8e0-47da-a55d-b9e32d7f8a2e",
   "metadata": {},
   "outputs": [],
   "source": []
  },
  {
   "cell_type": "code",
   "execution_count": null,
   "id": "a5a2f37c-a9af-44e0-997e-4d11cf6c1ec0",
   "metadata": {},
   "outputs": [],
   "source": []
  },
  {
   "cell_type": "code",
   "execution_count": null,
   "id": "b0ee0b77-17c3-4e98-b089-558810e1cebf",
   "metadata": {},
   "outputs": [],
   "source": [
    "for n in adata.array_names:\n",
    "    print('Array:',n)\n",
    "    print(adata[n])"
   ]
  },
  {
   "cell_type": "code",
   "execution_count": null,
   "id": "d101801c-0dce-4227-93c6-6708ea8929bf",
   "metadata": {},
   "outputs": [],
   "source": [
    "adata.always_convert_df = ['obs','var']"
   ]
  },
  {
   "cell_type": "code",
   "execution_count": null,
   "id": "63db6280-ac82-400f-8fe0-6e39f43fee2f",
   "metadata": {},
   "outputs": [],
   "source": [
    "dict(adata.dims)"
   ]
  },
  {
   "cell_type": "code",
   "execution_count": null,
   "id": "75dd30ae-b85b-40ba-a5c2-626186284fb2",
   "metadata": {},
   "outputs": [],
   "source": [
    "import xbatcher\n",
    "\n",
    "dim_dict = dict(adata.dims)\n",
    "batch_size = 1  # Each batch will include one \"var\" slice.\n",
    "dim_dict['var'] = batch_size\n",
    "del dim_dict['item'] #Delete any 0 dimensional dims items\n",
    "bgen = xbatcher.BatchGenerator(\n",
    "    ds=adata,\n",
    "    input_dims=dim_dict,\n",
    "    batch_dims={'var':batch_size},\n",
    ")\n",
    "\n",
    "# Test the dataloader by iterating over the batches and printing variable shapes.\n",
    "for i, batch in enumerate(bgen):\n",
    "    print(f\"Batch {i}:\")\n",
    "    for var_name, da in batch.data_vars.items():\n",
    "        print(f\"  {var_name}: shape {da.shape}\")\n",
    "\n",
    "#you can also index in as if it were a list (so this can be given to pytorch which can random sample batches)\n",
    "bgen[1]"
   ]
  },
  {
   "cell_type": "code",
   "execution_count": null,
   "id": "95629916-f8bf-42c6-b49a-83788e7cf096",
   "metadata": {
    "scrolled": true
   },
   "outputs": [],
   "source": [
    "batch['X']"
   ]
  },
  {
   "cell_type": "code",
   "execution_count": null,
   "id": "44defed3-1334-4323-92c6-65ac66cec50f",
   "metadata": {},
   "outputs": [],
   "source": [
    "batch['X'].coords"
   ]
  },
  {
   "cell_type": "code",
   "execution_count": null,
   "id": "4f6da6e3-c6e4-4725-bdd9-7dc76e648cfa",
   "metadata": {},
   "outputs": [],
   "source": []
  },
  {
   "cell_type": "code",
   "execution_count": null,
   "id": "d1d6afec-d0ed-48ed-a828-9d96a99bf3d9",
   "metadata": {},
   "outputs": [],
   "source": [
    "ds.dims"
   ]
  },
  {
   "cell_type": "code",
   "execution_count": null,
   "id": "2bbe4eb0-b684-419c-8438-33a1cbffb90d",
   "metadata": {},
   "outputs": [],
   "source": [
    "dim_dict"
   ]
  },
  {
   "cell_type": "code",
   "execution_count": null,
   "id": "31576602-3f68-49ed-8986-8f403b1b92c9",
   "metadata": {},
   "outputs": [],
   "source": [
    "batch['X'].shape"
   ]
  },
  {
   "cell_type": "code",
   "execution_count": null,
   "id": "e687118a-253b-4236-a43c-309a50b0a44d",
   "metadata": {},
   "outputs": [],
   "source": [
    "adata.array_names"
   ]
  },
  {
   "cell_type": "code",
   "execution_count": null,
   "id": "ceb2222b-0f4a-47f0-b059-a857aa590ece",
   "metadata": {},
   "outputs": [],
   "source": [
    "adata['var/chrom']"
   ]
  },
  {
   "cell_type": "code",
   "execution_count": null,
   "id": "c7368b46-88e4-49ee-919b-cdef8fcc2f7b",
   "metadata": {},
   "outputs": [],
   "source": [
    "adata.always_convert_df = []"
   ]
  },
  {
   "cell_type": "code",
   "execution_count": null,
   "id": "a7e8b063-35ce-4e3f-ae52-18512f63bc0c",
   "metadata": {},
   "outputs": [],
   "source": [
    "adata_loaded['obsm/gex']"
   ]
  },
  {
   "cell_type": "code",
   "execution_count": null,
   "id": "8c39ee3d-4490-45bf-8196-afbcce4dc82a",
   "metadata": {},
   "outputs": [],
   "source": [
    "adata_loaded['obs/index']"
   ]
  },
  {
   "cell_type": "code",
   "execution_count": null,
   "id": "6601a5e5-1675-48d7-958e-52a8e7db8397",
   "metadata": {},
   "outputs": [],
   "source": [
    "var_df = consensus_peaks.set_index(\"region\")\n",
    "var_df[\"chunk_index\"] = np.arange(var_df.shape[0]) // chunk_size\n",
    "# do something like:\n",
    "var_df = consensus_peaks.set_index(\"region\")\n",
    "var_df[\"chunk_index\"] = np.arange(var_df.shape[0]) // chunk_size\n"
   ]
  },
  {
   "cell_type": "code",
   "execution_count": null,
   "id": "c9b2052d-bccc-4e32-bc54-e957c630746f",
   "metadata": {},
   "outputs": [],
   "source": [
    "adata = crandata.CrAnData(always_convert_df=[\"df\"], global_axis_order=[\"obs\"])\n",
    "\n",
    "# Create two 1D arrays of length 10 and store them under hierarchical keys \"df/col1\" and \"df/col2\".\n",
    "adata[\"df/col1\"] = xr.DataArray(np.arange(10), dims=[\"obs\"])\n",
    "adata[\"df/col2\"] = xr.DataArray(np.arange(10, 20), dims=[\"obs\"])\n",
    "\n",
    "# Check that array_names is populated.\n",
    "print(\"Array names:\", adata.array_names)  # Should print: ['df/col1', 'df/col2']\n",
    "\n",
    "# Using get_dataframe() returns a grouped DataFrame.\n",
    "print(\"\\nAccess grouped DataFrame via get_dataframe('df'):\")\n",
    "df_group = adata.get_dataframe(\"df\")\n",
    "print(df_group)\n",
    "\n",
    "# Standard pandas indexing.\n",
    "print(\"\\nAccess a specific element using .loc on the grouped DataFrame:\")\n",
    "print(df_group.loc[5, \"col2\"])\n",
    "\n",
    "# Hierarchical indexing: since \"df\" is in always_convert_df, adata[\"df/col1\"] returns that column.\n",
    "print(\"\\nAccess column 'col1' via hierarchical indexing:\")\n",
    "print(adata[\"df/col1\"])\n",
    "\n",
    "# Dynamic attribute access: \"df/col1\" is accessible as adata.df_col1.\n",
    "print(\"\\nAccess column 'col1' via dynamic attribute (underscore notation):\")\n",
    "print(adata.df_col1)\n",
    "\n",
    "# To see the grouped DataFrame view, call get_dataframe.\n",
    "print(\"\\nAccess grouped DataFrame via get_dataframe('df'):\")\n",
    "print(adata.get_dataframe(\"df\"))\n",
    "\n",
    "# ----- Write to disk and read back -----\n",
    "adata.to_netcdf(\"test_crandata.nc\")\n",
    "print(\"\\nWrote CrAnData to 'test_crandata.nc'.\")\n",
    "\n",
    "# Use our class method to open the file.\n",
    "adata_loaded = crandata.CrAnData.open_dataset(\"test_crandata.nc\")\n",
    "print(\"\\nLoaded CrAnData from disk:\")\n",
    "print(adata_loaded)\n",
    "\n",
    "print(\"\\nAccess grouped DataFrame from loaded data via get_dataframe('df'):\")\n",
    "print(adata_loaded.get_dataframe(\"df\"))\n",
    "\n",
    "print(\"\\nAccess column 'col1' from loaded data using hierarchical indexing:\")\n",
    "print(adata_loaded[\"df/col1\"])\n",
    "\n",
    "os.remove(\"test_crandata.nc\")\n"
   ]
  },
  {
   "cell_type": "code",
   "execution_count": null,
   "id": "bb929fdb-7478-4f7e-b155-2fa36063fb16",
   "metadata": {},
   "outputs": [],
   "source": [
    "adata_loaded.df"
   ]
  },
  {
   "cell_type": "code",
   "execution_count": null,
   "id": "84c637bf-5230-4e0d-bf6f-3c9776586345",
   "metadata": {
    "scrolled": true
   },
   "outputs": [],
   "source": [
    "import xarray as xr\n",
    "import pandas as pd\n",
    "import numpy as np\n",
    "import os\n",
    "import json\n",
    "\n",
    "class CrAnData(xr.Dataset):\n",
    "    __slots__ = (\"always_convert_df\", \"__dict__\")\n",
    "    \n",
    "    def __init__(self, \n",
    "                 data_vars=None,\n",
    "                 coords=None,\n",
    "                 always_convert_df=None,  # list of top-level keys to be grouped into a DataFrame on access\n",
    "                 **kwargs):\n",
    "        \"\"\"\n",
    "        Create a CrAnData object as a subclass of xarray.Dataset.\n",
    "        \n",
    "        Parameters:\n",
    "          data_vars: dictionary of data variables.\n",
    "          coords: dictionary of coordinates.\n",
    "          always_convert_df: list (or array) of top-level keys that should be grouped into a DataFrame on access.\n",
    "          kwargs: additional data variables (merged into data_vars).\n",
    "        \"\"\"\n",
    "        # Merge provided data_vars with kwargs.\n",
    "        if data_vars is None:\n",
    "            data_vars = {}\n",
    "        data_vars = dict(data_vars)  # make a copy\n",
    "        data_vars.update(kwargs)\n",
    "        # Ensure every variable is an xr.DataArray.\n",
    "        for key, var in data_vars.items():\n",
    "            if not isinstance(var, xr.DataArray):\n",
    "                data_vars[key] = xr.DataArray(var)\n",
    "        if coords is None:\n",
    "            coords = {}\n",
    "            \n",
    "        # Initialize the underlying xarray.Dataset.\n",
    "        super().__init__(data_vars=data_vars, coords=coords)\n",
    "        \n",
    "        if always_convert_df is None:\n",
    "            always_convert_df = []\n",
    "        self.always_convert_df = always_convert_df\n",
    "\n",
    "        # Save custom attributes (as JSON) into ds.attrs so they are stored on disk.\n",
    "        self.attrs[\"always_convert_df\"] = json.dumps(self.always_convert_df)\n",
    "        \n",
    "        # For keys that contain '/', add an instance attribute with \"/\" replaced by \"_\" \n",
    "        # for direct dynamic attribute access.\n",
    "        for key in self.data_vars:\n",
    "            if \"/\" in key:\n",
    "                safe_name = key.replace(\"/\", \"_\")\n",
    "                object.__setattr__(self, safe_name, self.data_vars[key])\n",
    "\n",
    "        if \"var\" in self.always_convert_df:\n",
    "            grouped_var = self.get_dataframe(\"var\")\n",
    "            if grouped_var is not None:\n",
    "                self.__dict__[\"var\"] = grouped_var\n",
    "\n",
    "    @property\n",
    "    def array_names(self):\n",
    "        \"\"\"Return a list of the names of the data variables.\"\"\"\n",
    "        return list(self.data_vars.keys())\n",
    "    \n",
    "    def get_dataframe(self, top):\n",
    "        \"\"\"\n",
    "        Group all data variables whose keys start with 'top/' into a pandas DataFrame.\n",
    "        Assumes that each such variable is 1D and they share the same length.\n",
    "        \"\"\"\n",
    "        cols = {}\n",
    "        index = None\n",
    "        for key in list(self.data_vars.keys()):\n",
    "            if key.startswith(top + \"/\"):\n",
    "                col_name = key.split(\"/\", 1)[1]\n",
    "                # Use super().__getitem__ to bypass our custom __getitem__\n",
    "                da = super().__getitem__(key)\n",
    "                cols[col_name] = da.values\n",
    "                if top in da.coords:\n",
    "                    index = da.coords[top].values\n",
    "                else:\n",
    "                    index = np.arange(da.shape[0])\n",
    "        if cols:\n",
    "            return pd.DataFrame(cols, index=index)\n",
    "        else:\n",
    "            return None\n",
    "    \n",
    "    def __getitem__(self, key):\n",
    "        \"\"\"\n",
    "        Support hierarchical indexing.\n",
    "        If key is exactly a top-level key that is in always_convert_df,\n",
    "        return the grouped DataFrame.\n",
    "        If key is a string containing \"/\" and its top-level part is in always_convert_df,\n",
    "        then return the corresponding column from the grouped DataFrame.\n",
    "        Otherwise, return the data variable corresponding to the full key.\n",
    "        \"\"\"\n",
    "        if isinstance(key, str):\n",
    "            if key in self.always_convert_df:\n",
    "                df = self.get_dataframe(key)\n",
    "                if df is None:\n",
    "                    raise KeyError(f\"No grouped data found for key '{key}'\")\n",
    "                return df\n",
    "            if \"/\" in key:\n",
    "                top, sub = key.split(\"/\", 1)\n",
    "                if top in self.always_convert_df:\n",
    "                    df = self.get_dataframe(top)\n",
    "                    if df is None:\n",
    "                        raise KeyError(f\"No grouped data found for key '{top}'\")\n",
    "                    return df[sub]\n",
    "        return super().__getitem__(key)\n",
    "    \n",
    "    def __getattr__(self, attr):\n",
    "        \"\"\"\n",
    "        Fallback attribute lookup.\n",
    "        If attr is one of the keys in always_convert_df (e.g. \"obs\" or \"var\"),\n",
    "        return the grouped DataFrame using get_dataframe.\n",
    "        Otherwise, try to find a data variable whose key (with \"/\" replaced by \"_\") matches attr.\n",
    "        \"\"\"\n",
    "        # If attr is one of the top-level keys to be grouped, return the full DataFrame.\n",
    "        if attr in self.always_convert_df:\n",
    "            df = self.get_dataframe(attr)\n",
    "            if df is not None:\n",
    "                return df\n",
    "        # Otherwise, look for a matching data variable (e.g., \"obs_somecol\" for \"obs/somecol\").\n",
    "        dv = object.__getattribute__(self, \"data_vars\")\n",
    "        for key in dv:\n",
    "            safe = key.replace(\"/\", \"_\")\n",
    "            if safe == attr:\n",
    "                return dv[key]\n",
    "        raise AttributeError(f\"{type(self).__name__!r} object has no attribute {attr!r}\")\n",
    "    \n",
    "    def __repr__(self):\n",
    "        # Custom repr showing our array names, coordinate keys, and global axis order.\n",
    "        rep = f\"CrAnData object\\nArray names: {self.array_names}\\n\"\n",
    "        rep += f\"Coordinates: {list(self.coords.keys())}\\n\"\n",
    "        return rep\n",
    "        \n",
    "    def _repr_html_(self):\n",
    "        return self.__repr__()\n",
    "        \n",
    "    @classmethod\n",
    "    def open_dataset(cls, path, **kwargs):\n",
    "        \"\"\"\n",
    "        Class method to open a NetCDF file and wrap it as a CrAnData object.\n",
    "        Reads custom attributes (always_convert_df) from ds.attrs.\n",
    "        \"\"\"\n",
    "        ds = xr.open_dataset(path, **kwargs)\n",
    "        always_convert_df = json.loads(ds.attrs.get(\"always_convert_df\", \"[]\"))\n",
    "        return cls(data_vars=ds.data_vars, coords=ds.coords,\n",
    "                   always_convert_df=always_convert_df)\n",
    "\n",
    "    @classmethod\n",
    "    def open_zarr(cls, store, **kwargs):\n",
    "        \"\"\"\n",
    "        Class method to open a Zarr store and wrap it as a CrAnData object.\n",
    "        Reads custom attributes (always_convert_df) from ds.attrs.\n",
    "        \"\"\"\n",
    "        ds = xr.open_zarr(store, **kwargs)\n",
    "        always_convert_df = json.loads(ds.attrs.get(\"always_convert_df\", \"[]\"))\n",
    "        return cls(data_vars=ds.data_vars, coords=ds.coords,\n",
    "                   always_convert_df=always_convert_df)\n",
    "\n",
    "# ----- Example usage -----\n",
    "\n",
    "if __name__ == \"__main__\":\n",
    "    # Create a new CrAnData object.\n",
    "    # Indicate that keys under the top-level \"df\" should be grouped into a DataFrame.\n",
    "    adata = CrAnData(always_convert_df=[\"df\"], global_axis_order=[\"obs\"])\n",
    "    \n",
    "    # Create two 1D arrays of length 10 and store them under hierarchical keys \"df/col1\" and \"df/col2\".\n",
    "    adata[\"df/col1\"] = xr.DataArray(np.arange(10), dims=[\"obs\"])\n",
    "    adata[\"df/col2\"] = xr.DataArray(np.arange(10, 20), dims=[\"obs\"])\n",
    "    \n",
    "    # Check that array_names is populated.\n",
    "    print(\"Array names:\", adata.array_names)  # Should print: ['df/col1', 'df/col2']\n",
    "    \n",
    "    # Using get_dataframe() returns a grouped DataFrame.\n",
    "    print(\"\\nAccess grouped DataFrame via get_dataframe('df'):\")\n",
    "    df_group = adata.get_dataframe(\"df\")\n",
    "    print(df_group)\n",
    "    \n",
    "    # Standard pandas indexing.\n",
    "    print(\"\\nAccess a specific element using .loc on the grouped DataFrame:\")\n",
    "    print(df_group.loc[5, \"col2\"])\n",
    "    \n",
    "    # Hierarchical indexing: since \"df\" is in always_convert_df, adata[\"df/col1\"] returns that column.\n",
    "    print(\"\\nAccess column 'col1' via hierarchical indexing:\")\n",
    "    print(adata[\"df/col1\"])\n",
    "    \n",
    "    # Dynamic attribute access: \"df/col1\" is accessible as adata.df_col1.\n",
    "    print(\"\\nAccess column 'col1' via dynamic attribute (underscore notation):\")\n",
    "    print(adata.df_col1)\n",
    "    \n",
    "    # To see the grouped DataFrame view, call get_dataframe.\n",
    "    print(\"\\nAccess grouped DataFrame via get_dataframe('df'):\")\n",
    "    print(adata.get_dataframe(\"df\"))\n",
    "    \n",
    "    # ----- Write to disk and read back -----\n",
    "    adata.to_netcdf(\"test_crandata.nc\")\n",
    "    print(\"\\nWrote CrAnData to 'test_crandata.nc'.\")\n",
    "    \n",
    "    # Use our class method to open the file.\n",
    "    adata_loaded = CrAnData.open_dataset(\"test_crandata.nc\")\n",
    "    print(\"\\nLoaded CrAnData from disk:\")\n",
    "    print(adata_loaded)\n",
    "\n",
    "    print(\"\\nAccess grouped DataFrame from loaded data via get_dataframe('df'):\")\n",
    "    print(adata_loaded.get_dataframe(\"df\"))\n",
    "    \n",
    "    print(\"\\nAccess column 'col1' from loaded data using hierarchical indexing:\")\n",
    "    print(adata_loaded[\"df/col1\"])\n",
    "    \n",
    "    os.remove(\"test_crandata.nc\")\n"
   ]
  },
  {
   "cell_type": "code",
   "execution_count": null,
   "id": "9c8480a8-142f-423d-893f-c6074efa3a26",
   "metadata": {},
   "outputs": [],
   "source": [
    "adata_loaded.df"
   ]
  },
  {
   "cell_type": "code",
   "execution_count": null,
   "id": "0550c266-84c5-49ec-bc4f-fb787c757eb4",
   "metadata": {},
   "outputs": [],
   "source": [
    "adata.obs"
   ]
  },
  {
   "cell_type": "code",
   "execution_count": null,
   "id": "0a2cedbf-3f71-47a3-8361-fbe0511dd321",
   "metadata": {},
   "outputs": [],
   "source": [
    "adata.var()"
   ]
  },
  {
   "cell_type": "code",
   "execution_count": null,
   "id": "af3373ec-309c-4c89-8bb3-81ec43556bbd",
   "metadata": {},
   "outputs": [],
   "source": [
    "It strikes me that this is not a very good way to read from disk, as it might require you to read the whole object into memory and then try to initialize a crandata (does it?). What would it take to create a classmethod for CrAnData that just wrap the xarray open_dataset or open_zarr"
   ]
  },
  {
   "cell_type": "code",
   "execution_count": null,
   "id": "be832b9f-8fe5-4fee-bbef-c39648805b16",
   "metadata": {},
   "outputs": [],
   "source": [
    "import crandata\n",
    "import xarray as xr\n",
    "import pandas as pd\n",
    "import numpy as np"
   ]
  },
  {
   "cell_type": "code",
   "execution_count": null,
   "id": "9eee12c6-6743-4f06-af25-ebfffd6a9c94",
   "metadata": {},
   "outputs": [],
   "source": [
    "X = xr.DataArray(np.arange(20).reshape(4, 5), dims=[\"obs\", \"var\"])\n",
    "obsm = {\"embedding\": xr.DataArray(np.random.rand(4, 2), dims=[\"obs\", \"other\"])}\n",
    "varm = {\"feature\": xr.DataArray(np.random.rand(5, 3), dims=[\"var\", \"other\"])}\n",
    "layers = {\"layer1\": X.copy()}\n",
    "varp = {\"contacts\": xr.DataArray(np.random.rand(5, 5), dims=[\"var_0\", \"var_1\"])}\n",
    "obsp = {\"adj\": xr.DataArray(np.random.rand(4, 4), dims=[\"obs_0\", \"obs_1\"])}\n",
    "data = crandata.crandata.CrAnData(\n",
    "    X, uns={\"extra\": \"test\"},\n",
    "    obsm=obsm, varm=varm, layers=layers, varp=varp, obsp=obsp\n",
    ")\n"
   ]
  },
  {
   "cell_type": "code",
   "execution_count": null,
   "id": "6a825901-0e9e-4fba-8703-1b2b79f66f50",
   "metadata": {},
   "outputs": [],
   "source": [
    "data"
   ]
  },
  {
   "cell_type": "code",
   "execution_count": null,
   "id": "04edae4a-ab55-4704-a2ec-01e9c2fe9e5c",
   "metadata": {},
   "outputs": [],
   "source": [
    "adata.var['train_probs']"
   ]
  },
  {
   "cell_type": "code",
   "execution_count": null,
   "id": "0f90c93f-9df3-4724-8d76-bba467e474d5",
   "metadata": {},
   "outputs": [],
   "source": [
    "adata._propagate_missing_coordinates()"
   ]
  },
  {
   "cell_type": "code",
   "execution_count": null,
   "id": "f7361e12-a505-47a7-9f2e-cb795365b522",
   "metadata": {},
   "outputs": [],
   "source": [
    "adata"
   ]
  },
  {
   "cell_type": "code",
   "execution_count": null,
   "id": "6dde843a-9bd9-4a0d-aa02-5ad3508d2e48",
   "metadata": {},
   "outputs": [],
   "source": [
    "for i, batch in enumerate(tqdm.tqdm(meta_train_dl.data)):\n",
    "    print(f\"Meta Batch {i}:\")\n",
    "    for key, tensor in batch.items():\n",
    "        print(f\"  {key}: shape {tensor.shape}\")\n",
    "        # print(tensor)\n",
    "    # For quick testing, you can uncomment the following to break early:\n",
    "    # if i == 1:\n",
    "    #     break\n",
    "\n",
    "print(\"Final directory contents:\", os.listdir(base_dir))\n"
   ]
  },
  {
   "cell_type": "code",
   "execution_count": null,
   "id": "d06f80a2-d874-4823-abaf-58f67726b16e",
   "metadata": {},
   "outputs": [],
   "source": [
    "batch['sequence'].shape"
   ]
  },
  {
   "cell_type": "code",
   "execution_count": null,
   "id": "31b4837c-5033-4e05-866f-e4f6a3340bef",
   "metadata": {},
   "outputs": [],
   "source": [
    "batch['hic'].shape"
   ]
  },
  {
   "cell_type": "code",
   "execution_count": null,
   "id": "19cf2013-0c20-4563-94d8-bf7c245a47d4",
   "metadata": {},
   "outputs": [],
   "source": [
    "adata.global_axis_order"
   ]
  },
  {
   "cell_type": "code",
   "execution_count": null,
   "id": "96f1dd75-1fd4-437d-a720-3e7b2494d423",
   "metadata": {},
   "outputs": [],
   "source": [
    "fff"
   ]
  },
  {
   "cell_type": "code",
   "execution_count": null,
   "id": "90ebbd33-d888-4bee-a9b7-93743886288e",
   "metadata": {
    "scrolled": true
   },
   "outputs": [],
   "source": [
    "import cProfile\n",
    "\n",
    "code = '''\n",
    "for i, batch in enumerate(meta_train_dl.data):\n",
    "    print(f\"Meta Batch {i}:\")\n",
    "    for key, tensor in batch.items():\n",
    "        print(f\"  {key}: shape {tensor.shape}\")\n",
    "'''\n",
    "\n",
    "cProfile.run(code)\n"
   ]
  },
  {
   "cell_type": "code",
   "execution_count": null,
   "id": "8c2eb058-5a2f-47e2-9bca-b79d494b1490",
   "metadata": {},
   "outputs": [],
   "source": []
  },
  {
   "cell_type": "code",
   "execution_count": null,
   "id": "5f70292f-f088-4e9d-a127-4736bb591964",
   "metadata": {},
   "outputs": [],
   "source": [
    "import crandata\n",
    "import os\n",
    "import crested\n",
    "from tqdm import tqdm"
   ]
  },
  {
   "cell_type": "code",
   "execution_count": null,
   "id": "b454e2de-689f-432e-9621-4d88f73e3b7c",
   "metadata": {},
   "outputs": [],
   "source": [
    "genomes = {}\n",
    "beds = {}\n",
    "chromsizes_files = {}\n",
    "bed_files = {}\n",
    "species = ['mouse','human','macaque']\n",
    "\n",
    "WINDOW_SIZE = 2114\n",
    "OFFSET = WINDOW_SIZE // 2  # e.g., 50% overlap\n",
    "N_THRESHOLD = 0.3\n",
    "n_bins = WINDOW_SIZE//50"
   ]
  },
  {
   "cell_type": "code",
   "execution_count": null,
   "id": "392bdeca-411d-47ea-a846-6c906784b46d",
   "metadata": {},
   "outputs": [],
   "source": [
    "for s in species:\n",
    "    genome_path = '/allen/programs/celltypes/workgroups/rnaseqanalysis/EvoGen/Team/Matthew/genome/onehots/'+s\n",
    "    fasta_file = os.path.join(genome_path,s+'.fa')\n",
    "    chrom_sizes = os.path.join(genome_path,s+'.fa.sizes')\n",
    "    annotation_gtf_file = os.path.join(genome_path,s+'.annotation.gtf')\n",
    "    chromsizes_files[s] = chrom_sizes\n",
    "    genome = crandata.Genome(fasta_file, chrom_sizes, annotation_gtf_file)\n",
    "    genomes[s] = genome\n",
    "    # Set parameters for binning.\n",
    "    \n",
    "    # Optionally specify an output path for the BED file.\n",
    "    OUTPUT_BED = os.path.join(genome_path, \"binned_genome.bed\")\n",
    "    bed_files[s] = OUTPUT_BED\n",
    "    # Generate bins and optionally write to disk.\n",
    "    # binned_df = crandata.bin_genome(genome, WINDOW_SIZE, OFFSET, n_threshold=N_THRESHOLD, output_path=OUTPUT_BED)\n",
    "    # print(\"Filtered bins:\")\n",
    "    # print(binned_df)"
   ]
  },
  {
   "cell_type": "code",
   "execution_count": null,
   "id": "10492d8e-e22d-48a3-8139-6d5aadc02d7f",
   "metadata": {},
   "outputs": [],
   "source": [
    "adatas = {}\n",
    "\n",
    "for s in species:\n",
    "    # bigwigs_dir = os.path.join('/allen/programs/celltypes/workgroups/rnaseqanalysis/EvoGen/SpinalCord/manuscript/ATAC',s,'Group_bigwig')\n",
    "    # adata = crandata.chrom_io.import_bigwigs(\n",
    "    #     bigwigs_folder=bigwigs_dir,\n",
    "    #     regions_file=bed_files[s],\n",
    "    #     backed_path='/home/matthew.schmitz/Matthew/'+s+'_spc_test.h5',\n",
    "    #     target_region_width=WINDOW_SIZE,\n",
    "    #     chromsizes_file=chromsizes_files[s],\n",
    "    #     target = 'mean',\n",
    "    #     n_bins=n_bins\n",
    "    # )\n",
    "    # adatas[s] = adata\n",
    "    adatas[s] = crandata.crandata.CrAnData.from_h5('/home/matthew.schmitz/Matthew/'+s+'_spc_test.h5')\n",
    "    "
   ]
  },
  {
   "cell_type": "code",
   "execution_count": null,
   "id": "963ce450-9ef0-4d38-92cc-59521099497c",
   "metadata": {},
   "outputs": [],
   "source": [
    "# import numpy as np\n",
    "# adatas['mouse'].uns['chunk_size'] = 512\n",
    "# adatas['human'].uns['chunk_size'] = 512\n",
    "# adatas['macaque'].uns['chunk_size'] = 512\n",
    "# adatas['mouse'].var[\"chunk_index\"] = np.arange(adatas['mouse'].var.shape[0]) // 512\n",
    "# adatas['human'].var[\"chunk_index\"] = np.arange(adatas['human'].var.shape[0]) // 512\n",
    "# adatas['macaque'].var[\"chunk_index\"] = np.arange(adatas['macaque'].var.shape[0]) // 512\n"
   ]
  },
  {
   "cell_type": "code",
   "execution_count": null,
   "id": "b667671b-3508-4daf-a706-92651c186854",
   "metadata": {},
   "outputs": [],
   "source": [
    "for s in adatas.keys():\n",
    "    crested.pp.train_val_test_split(\n",
    "        adatas[s], strategy=\"region\", val_size=0.1, test_size=0.1, random_state=42\n",
    "    )\n"
   ]
  },
  {
   "cell_type": "code",
   "execution_count": null,
   "id": "c9aaf99e-b31e-4f93-a15d-e6ca8aa65780",
   "metadata": {},
   "outputs": [],
   "source": [
    "meta_module = crandata._anndatamodule.MetaAnnDataModule(\n",
    "    adatas=list(adatas.values()),\n",
    "    genomes=list(genomes.values()),\n",
    "    data_sources={'y': 'X'},\n",
    "    in_memory=False,\n",
    "    random_reverse_complement=True,\n",
    "    max_stochastic_shift=10,\n",
    "    deterministic_shift=False,\n",
    "    shuffle_obs=False, obs_alignment = 'intersect',\n",
    "    shuffle=True,\n",
    "    batch_size=32,    # small batch size for testing\n",
    "    epoch_size=1000000    # small epoch size for quick testing\n",
    ")\n",
    "\n",
    "# Setup the meta module for the \"fit\" stage (train/val)\n",
    "meta_module.setup(\"fit\")\n",
    "\n",
    "# Retrieve the training dataloader from the meta module and iterate over a couple of batches.\n",
    "meta_train_dl = meta_module.train_dataloader\n",
    "\n",
    "print(\"\\nIterating over a couple of training batches from MetaAnnDataModule:\")\n",
    "for i, batch in enumerate(tqdm(meta_train_dl.data)):\n",
    "    print(f\"Meta Batch {i}:\")\n",
    "    for key, tensor in batch.items():\n",
    "        print(f\"  {key}: shape {tensor.shape}\")\n",
    "    if i == 5:\n",
    "        break\n"
   ]
  },
  {
   "cell_type": "code",
   "execution_count": null,
   "id": "de99d0b3-99e8-4a30-8cf4-b762a1247d32",
   "metadata": {},
   "outputs": [],
   "source": [
    "for i, batch in enumerate(tqdm(meta_train_dl.data)):\n",
    "    print(f\"Meta Batch {i}:\")\n",
    "    for key, tensor in batch.items():\n",
    "        print(f\"  {key}: shape {tensor.dtype}\")\n",
    "    if i == 5:\n",
    "        break\n"
   ]
  },
  {
   "cell_type": "code",
   "execution_count": null,
   "id": "7a11e2cb-b92b-4c02-bc40-886f67d2e8d5",
   "metadata": {
    "scrolled": true
   },
   "outputs": [],
   "source": [
    "import cProfile\n",
    "\n",
    "code = '''\n",
    "for i, batch in enumerate(meta_train_dl.data):\n",
    "    # print(f\"Meta Batch {i}:\")\n",
    "    # for key, tensor in batch.items():\n",
    "    #     print(f\"  {key}: shape {tensor.shape}\")\n",
    "    if i == 5:\n",
    "        break\n",
    "'''\n",
    "\n",
    "out = cProfile.run(code,sort=True)\n"
   ]
  },
  {
   "cell_type": "code",
   "execution_count": null,
   "id": "e661681c-6d1e-4441-9878-c21d0505df51",
   "metadata": {},
   "outputs": [],
   "source": [
    "model_architecture = crested.tl.zoo.simple_convnet(\n",
    "    seq_len=2114, num_classes=batch['y'].shape[1]\n",
    ")\n"
   ]
  },
  {
   "cell_type": "code",
   "execution_count": null,
   "id": "6348c92d-cfce-4e39-8a7f-3df53b363b77",
   "metadata": {},
   "outputs": [],
   "source": [
    "import keras\n",
    "# Create your own configuration\n",
    "# I recommend trying this for peak regression with a weighted cosine mse log loss function\n",
    "optimizer = keras.optimizers.Adam(learning_rate=1e-5)\n",
    "loss = crested.tl.losses.CosineMSELogLoss(max_weight=100, multiplier=1)\n",
    "loss = crested.tl.losses.PoissonLoss()\n",
    "\n",
    "metrics = [\n",
    "    keras.metrics.MeanAbsoluteError(),\n",
    "    # keras.metrics.MeanSquaredError(),\n",
    "    # keras.metrics.CosineSimilarity(axis=1),\n",
    "    crested.tl.metrics.PearsonCorrelation(),\n",
    "    # crested.tl.metrics.ConcordanceCorrelationCoefficient(),\n",
    "    # crested.tl.metrics.PearsonCorrelationLog(),\n",
    "    # crested.tl.metrics.ZeroPenaltyMetric(),\n",
    "]\n",
    "\n",
    "alternative_config = crested.tl.TaskConfig(optimizer, loss, metrics)\n",
    "print(alternative_config)\n"
   ]
  },
  {
   "cell_type": "code",
   "execution_count": null,
   "id": "80e5aeb3-5514-466c-b8c7-f04556666c35",
   "metadata": {},
   "outputs": [],
   "source": [
    "# initialize some lazy model parameters *yawn*\n",
    "model_architecture(batch)"
   ]
  },
  {
   "cell_type": "code",
   "execution_count": null,
   "id": "e1b3716a-4a11-418e-9aad-6778019c0f97",
   "metadata": {},
   "outputs": [],
   "source": [
    "trainer = crested.tl.Crested(\n",
    "    data=meta_module,\n",
    "    model=model_architecture,\n",
    "    config=alternative_config,\n",
    "    project_name=\"mouse_biccn\",  # change to your liking\n",
    "    run_name=\"basemodel\",  # change to your liking\n",
    "    logger=None,  # or None, 'dvc', 'tensorboard'\n",
    "    seed=7,  # For reproducibility\n",
    ")\n",
    "# train the model\n",
    "trainer.fit(\n",
    "    epochs=60,\n",
    "    learning_rate_reduce_patience=3,\n",
    "    early_stopping_patience=6,\n",
    ")\n"
   ]
  },
  {
   "cell_type": "code",
   "execution_count": null,
   "id": "9acd5a76-9f07-4525-8c6d-4b5f3ed12aae",
   "metadata": {},
   "outputs": [],
   "source": []
  }
 ],
 "metadata": {
  "kernelspec": {
   "display_name": "crested",
   "language": "python",
   "name": "crested"
  },
  "language_info": {
   "codemirror_mode": {
    "name": "ipython",
    "version": 3
   },
   "file_extension": ".py",
   "mimetype": "text/x-python",
   "name": "python",
   "nbconvert_exporter": "python",
   "pygments_lexer": "ipython3",
   "version": "3.12.7"
  }
 },
 "nbformat": 4,
 "nbformat_minor": 5
}
